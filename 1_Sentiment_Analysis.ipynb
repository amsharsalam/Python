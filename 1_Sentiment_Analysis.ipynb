{
  "nbformat": 4,
  "nbformat_minor": 0,
  "metadata": {
    "colab": {
      "name": "1. Sentiment Analysis.ipynb",
      "provenance": [],
      "collapsed_sections": [
        "hkOE2fChzFFy"
      ],
      "toc_visible": true,
      "authorship_tag": "ABX9TyNW628Abp8Nlp6Qxrm8ds21",
      "include_colab_link": true
    },
    "kernelspec": {
      "name": "python3",
      "display_name": "Python 3"
    }
  },
  "cells": [
    {
      "cell_type": "markdown",
      "metadata": {
        "id": "view-in-github",
        "colab_type": "text"
      },
      "source": [
        "<a href=\"https://colab.research.google.com/github/mrbarokah/Python/blob/master/1_Sentiment_Analysis.ipynb\" target=\"_parent\"><img src=\"https://colab.research.google.com/assets/colab-badge.svg\" alt=\"Open In Colab\"/></a>"
      ]
    },
    {
      "cell_type": "markdown",
      "metadata": {
        "id": "QYmp622rh-tc",
        "colab_type": "text"
      },
      "source": [
        "##**1. Import Library**"
      ]
    },
    {
      "cell_type": "markdown",
      "metadata": {
        "id": "H07VVcmgPm3O",
        "colab_type": "text"
      },
      "source": [
        "* VADER (Valence Aware Dictionary and sEntiment Reasoner) is a lexicon and rule-based sentiment analysis tool that is specifically attuned to sentiments expressed in social media.\n",
        "Source : https://github.com/cjhutto/vaderSentiment\n",
        "\n",
        "\n"
      ]
    },
    {
      "cell_type": "code",
      "metadata": {
        "id": "gZC7sIOvhLkD",
        "colab_type": "code",
        "colab": {}
      },
      "source": [
        "# Install Library\n",
        "!pip install vaderSentiment"
      ],
      "execution_count": null,
      "outputs": []
    },
    {
      "cell_type": "markdown",
      "metadata": {
        "id": "Pj-iCWSNQ4KB",
        "colab_type": "text"
      },
      "source": [
        "* Pandas is an open source, BSD-licensed library providing high-performance, easy-to-use data structures and data analysis tools for the Python programming language.\n",
        "* NLTK is a leading platform for building Python programs to work with human language data."
      ]
    },
    {
      "cell_type": "code",
      "metadata": {
        "id": "akevYOvYhMqD",
        "colab_type": "code",
        "colab": {}
      },
      "source": [
        "# Import Library\n",
        "import pandas as pd\n",
        "from nltk.sentiment.vader import SentimentIntensityAnalyzer\n",
        "import nltk"
      ],
      "execution_count": null,
      "outputs": []
    },
    {
      "cell_type": "markdown",
      "metadata": {
        "id": "lCGAzlQqh5_m",
        "colab_type": "text"
      },
      "source": [
        "##**2. Import Data**"
      ]
    },
    {
      "cell_type": "code",
      "metadata": {
        "id": "LTiM5zNweBng",
        "colab_type": "code",
        "colab": {}
      },
      "source": [
        "# Import Data from Google Drive\n",
        "from google.colab import drive\n",
        "drive.mount('/content/drive')"
      ],
      "execution_count": null,
      "outputs": []
    },
    {
      "cell_type": "code",
      "metadata": {
        "id": "0uz7p18EefJL",
        "colab_type": "code",
        "colab": {}
      },
      "source": [
        "df = pd.read_csv(\"/content/drive/My Drive/CHRYSLER/Chrysler_Senti.csv\")"
      ],
      "execution_count": null,
      "outputs": []
    },
    {
      "cell_type": "code",
      "metadata": {
        "id": "-dYWIffzhb4S",
        "colab_type": "code",
        "colab": {}
      },
      "source": [
        "# Import Data if Normal\n",
        "df = pd.read_csv(\"/content/Tesat.csv\")"
      ],
      "execution_count": null,
      "outputs": []
    },
    {
      "cell_type": "code",
      "metadata": {
        "id": "OoNKFGqKRWvQ",
        "colab_type": "code",
        "colab": {}
      },
      "source": [
        "# Import Normal Data if UnicodeError Occured\n",
        "df = pd.read_csv(\"/content/GM_15_22_FIX.csv\", encoding = \"ISO-8859-1\")"
      ],
      "execution_count": null,
      "outputs": []
    },
    {
      "cell_type": "code",
      "metadata": {
        "id": "P7pG-XNthyOo",
        "colab_type": "code",
        "colab": {}
      },
      "source": [
        "df.head(5)"
      ],
      "execution_count": null,
      "outputs": []
    },
    {
      "cell_type": "code",
      "metadata": {
        "id": "huk6nZDjh15j",
        "colab_type": "code",
        "colab": {}
      },
      "source": [
        "df.shape"
      ],
      "execution_count": null,
      "outputs": []
    },
    {
      "cell_type": "markdown",
      "metadata": {
        "id": "Ce6eIbGKlvl_",
        "colab_type": "text"
      },
      "source": [
        "#**3. PreProcessing**"
      ]
    },
    {
      "cell_type": "markdown",
      "metadata": {
        "id": "GvMQYxnNBXAI",
        "colab_type": "text"
      },
      "source": [
        "###a. Remove Duplicate"
      ]
    },
    {
      "cell_type": "code",
      "metadata": {
        "id": "4p93BaJ8_i9_",
        "colab_type": "code",
        "colab": {
          "base_uri": "https://localhost:8080/",
          "height": 34
        },
        "outputId": "79ab928f-ece5-4377-89e8-3fb480ebc0b4"
      },
      "source": [
        "# Remove Duplicate Row from Table\n",
        "df = df.drop_duplicates()\n",
        "df.shape"
      ],
      "execution_count": null,
      "outputs": [
        {
          "output_type": "execute_result",
          "data": {
            "text/plain": [
              "(411637, 5)"
            ]
          },
          "metadata": {
            "tags": []
          },
          "execution_count": 8
        }
      ]
    },
    {
      "cell_type": "markdown",
      "metadata": {
        "id": "JxHScdi48YC4",
        "colab_type": "text"
      },
      "source": [
        "###b. RemoveURL"
      ]
    },
    {
      "cell_type": "code",
      "metadata": {
        "id": "KBvj60dL8WIa",
        "colab_type": "code",
        "colab": {}
      },
      "source": [
        "# Remove Duplicate from Selected Column\n",
        "df['text'] = df['text'].str.replace('http\\S+|www.\\S+', '', case=False)"
      ],
      "execution_count": null,
      "outputs": []
    },
    {
      "cell_type": "markdown",
      "metadata": {
        "id": "erMmoXQbwxK0",
        "colab_type": "text"
      },
      "source": [
        "###c. LowerCasing"
      ]
    },
    {
      "cell_type": "code",
      "metadata": {
        "id": "Fzi6mWuvulb-",
        "colab_type": "code",
        "colab": {}
      },
      "source": [
        "# Merubah keseluruhan kalimat di kolom yang dipilih menjadi huruf kecil\n",
        "df['text'] = df['text'].str.lower()"
      ],
      "execution_count": null,
      "outputs": []
    },
    {
      "cell_type": "code",
      "metadata": {
        "id": "z8pT1YApwrth",
        "colab_type": "code",
        "colab": {}
      },
      "source": [
        "df.text"
      ],
      "execution_count": null,
      "outputs": []
    },
    {
      "cell_type": "markdown",
      "metadata": {
        "id": "_GR5iPwH_wsU",
        "colab_type": "text"
      },
      "source": [
        "###d. RemoveUsername (Optional)"
      ]
    },
    {
      "cell_type": "code",
      "metadata": {
        "id": "XMZRgD1h_0Sh",
        "colab_type": "code",
        "colab": {}
      },
      "source": [
        "# Menghilangkan kata yang diawali oleh simbol @ pada kolom tertentu\n",
        "df['text'] = df['text'].str.replace('@[^\\s]+','', case=False)"
      ],
      "execution_count": null,
      "outputs": []
    },
    {
      "cell_type": "markdown",
      "metadata": {
        "id": "B7GNk15qxhLJ",
        "colab_type": "text"
      },
      "source": [
        "###e. Tokenize (Optional)"
      ]
    },
    {
      "cell_type": "code",
      "metadata": {
        "id": "5PtudKVrzUdF",
        "colab_type": "code",
        "colab": {
          "base_uri": "https://localhost:8080/",
          "height": 67
        },
        "outputId": "51df6468-f131-4b63-bf5e-2d6c5fff2ac0"
      },
      "source": [
        "nltk.download('punkt')"
      ],
      "execution_count": null,
      "outputs": [
        {
          "output_type": "stream",
          "text": [
            "[nltk_data] Downloading package punkt to /root/nltk_data...\n",
            "[nltk_data]   Package punkt is already up-to-date!\n"
          ],
          "name": "stdout"
        },
        {
          "output_type": "execute_result",
          "data": {
            "text/plain": [
              "True"
            ]
          },
          "metadata": {
            "tags": []
          },
          "execution_count": 117
        }
      ]
    },
    {
      "cell_type": "code",
      "metadata": {
        "id": "Ve-_m0d_xj8P",
        "colab_type": "code",
        "colab": {
          "base_uri": "https://localhost:8080/",
          "height": 54
        },
        "outputId": "c0145f99-9b1b-4d3d-c966-085b74e4ec92"
      },
      "source": [
        "#Testing\n",
        "example_text = df.iloc[0]\n",
        "print(nltk.word_tokenize(example_text['text']))"
      ],
      "execution_count": null,
      "outputs": [
        {
          "output_type": "stream",
          "text": [
            "['retweet', 'selected', 'by', 'the', 'team', '|', 'glancy', 'prongay', '&', 'amp', ';', 'murray', 'llp', ':', 'announces', 'investigation', 'o…']\n"
          ],
          "name": "stdout"
        }
      ]
    },
    {
      "cell_type": "code",
      "metadata": {
        "id": "9ianpkdFyzQ3",
        "colab_type": "code",
        "colab": {}
      },
      "source": [
        "def identify_tokens(row):\n",
        "    text = row['text']\n",
        "    tokens = nltk.word_tokenize(text)\n",
        "    # taken only words (not punctuation)\n",
        "    token_words = [w for w in tokens if w.isalpha()]\n",
        "    return token_words\n",
        "\n",
        "df['text'] = df.apply(identify_tokens, axis=1)"
      ],
      "execution_count": null,
      "outputs": []
    },
    {
      "cell_type": "code",
      "metadata": {
        "id": "B1D8eJsuzB-Z",
        "colab_type": "code",
        "colab": {
          "base_uri": "https://localhost:8080/",
          "height": 269
        },
        "outputId": "162c7937-8e59-4f7a-a152-8799680f82f3"
      },
      "source": [
        "df.text"
      ],
      "execution_count": null,
      "outputs": [
        {
          "output_type": "execute_result",
          "data": {
            "text/plain": [
              "0     [retweet, selected, by, the, team, glancy, pro...\n",
              "1     [entering, the, last, year, of, his, first, te...\n",
              "2     [rt, hornematt, not, a, good, look, for, toyot...\n",
              "3     [just, not, with, the, honda, gang, anymore, a...\n",
              "4     [having, issues, with, the, lighting, on, your...\n",
              "5     [yes, yes, you, can, in, back, and, the, front...\n",
              "6     [tesla, s, deal, with, could, pave, the, way, ...\n",
              "7     [jibbyd, a, chrysler, though, could, ve, at, l...\n",
              "8     [dotfuz, i, know, i, was, disappointed, in, th...\n",
              "9     [good, thing, obama, saved, gm, and, chrysler,...\n",
              "10    [retweet, selected, by, the, team, law, office...\n",
              "11    [i, applied, for, a, lexus, and, didn, t, get,...\n",
              "12    [i, worked, a, thing, called, rotating, sixes,...\n",
              "13    [grand, central, and, chrysler, building, sony...\n",
              "Name: text, dtype: object"
            ]
          },
          "metadata": {
            "tags": []
          },
          "execution_count": 84
        }
      ]
    },
    {
      "cell_type": "markdown",
      "metadata": {
        "id": "Jv0m1ExWzg87",
        "colab_type": "text"
      },
      "source": [
        "###f. Stemming (Optional)"
      ]
    },
    {
      "cell_type": "code",
      "metadata": {
        "id": "hyKjBwLhzjFe",
        "colab_type": "code",
        "colab": {}
      },
      "source": [
        "from nltk.stem import PorterStemmer\n",
        "stemming = PorterStemmer()"
      ],
      "execution_count": null,
      "outputs": []
    },
    {
      "cell_type": "code",
      "metadata": {
        "id": "8zz2ArPmzlht",
        "colab_type": "code",
        "colab": {
          "base_uri": "https://localhost:8080/",
          "height": 34
        },
        "outputId": "524c3ff4-0ea7-4dac-a47b-3bf2ec495086"
      },
      "source": [
        "my_list = ['frightening', 'frightened', 'frightens']\n",
        "print ([stemming.stem(word) for word in my_list])"
      ],
      "execution_count": null,
      "outputs": [
        {
          "output_type": "stream",
          "text": [
            "['frighten', 'frighten', 'frighten']\n"
          ],
          "name": "stdout"
        }
      ]
    },
    {
      "cell_type": "code",
      "metadata": {
        "id": "O4KljGvi0gj1",
        "colab_type": "code",
        "colab": {}
      },
      "source": [
        "def stem_list(row):\n",
        "    my_list = row['text']\n",
        "    stemmed_list = [stemming.stem(word) for word in my_list]\n",
        "    return (stemmed_list)\n",
        "\n",
        "df['stemmed_words'] = df.apply(stem_list, axis=1)"
      ],
      "execution_count": null,
      "outputs": []
    },
    {
      "cell_type": "code",
      "metadata": {
        "id": "JofG8_AP0ss2",
        "colab_type": "code",
        "colab": {
          "base_uri": "https://localhost:8080/",
          "height": 218
        },
        "outputId": "48717726-3e23-46b0-d380-19ba532d90e6"
      },
      "source": [
        "df.text"
      ],
      "execution_count": null,
      "outputs": [
        {
          "output_type": "execute_result",
          "data": {
            "text/plain": [
              "0        [yes, i, have, a, pink, volkswagen, golf, real...\n",
              "1                                    [oh, yeah, i, fw, it]\n",
              "2                                        [okay, toosiiiii]\n",
              "3        [vw, polo, tsi, is, the, best, hatchback, hand...\n",
              "4          [absolutely, bang, on, seriously, looking, bro]\n",
              "                               ...                        \n",
              "17973                    [my, first, car, was, a, vw, bug]\n",
              "17974                    [timestamp, for, posterity, tsla]\n",
              "17975    [on, my, way, to, lisboa, and, a, big, thank, ...\n",
              "17976    [ready, reposted, from, full, collection, of, ...\n",
              "17977                                [in, musk, we, trust]\n",
              "Name: text, Length: 17978, dtype: object"
            ]
          },
          "metadata": {
            "tags": []
          },
          "execution_count": 101
        }
      ]
    },
    {
      "cell_type": "markdown",
      "metadata": {
        "id": "dHW4Og7VrrSO",
        "colab_type": "text"
      },
      "source": [
        "###g. Stopwords (Optional)"
      ]
    },
    {
      "cell_type": "code",
      "metadata": {
        "id": "hOHzEbFA1SvX",
        "colab_type": "code",
        "colab": {
          "base_uri": "https://localhost:8080/",
          "height": 50
        },
        "outputId": "2dfd214f-f399-4a31-b326-cf15de2b8b70"
      },
      "source": [
        "nltk.download('stopwords')\n",
        "from nltk.corpus import stopwords\n",
        "stops = set(stopwords.words(\"english\"))"
      ],
      "execution_count": null,
      "outputs": [
        {
          "output_type": "stream",
          "text": [
            "[nltk_data] Downloading package stopwords to /root/nltk_data...\n",
            "[nltk_data]   Package stopwords is already up-to-date!\n"
          ],
          "name": "stdout"
        }
      ]
    },
    {
      "cell_type": "code",
      "metadata": {
        "id": "na6chvUW1YHl",
        "colab_type": "code",
        "colab": {}
      },
      "source": [
        "def remove_stops(row):\n",
        "    text = row['text']\n",
        "    meaningful_words = [w for w in text if not w in stops]\n",
        "    return (meaningful_words)\n",
        "\n",
        "df['text'] = df.apply(remove_stops, axis=1)"
      ],
      "execution_count": null,
      "outputs": []
    },
    {
      "cell_type": "code",
      "metadata": {
        "id": "0Wy5D-4vR9ZV",
        "colab_type": "code",
        "colab": {}
      },
      "source": [
        "#Joining Text\n",
        "df['text'] = df['text'].str.join(\" \")"
      ],
      "execution_count": null,
      "outputs": []
    },
    {
      "cell_type": "code",
      "metadata": {
        "id": "9T925fp31h18",
        "colab_type": "code",
        "colab": {
          "base_uri": "https://localhost:8080/",
          "height": 34
        },
        "outputId": "f8c9e6f9-72d3-4952-cd6e-203baa81b99a"
      },
      "source": [
        "print(df['text'][0])"
      ],
      "execution_count": null,
      "outputs": [
        {
          "output_type": "stream",
          "text": [
            "retweet selected team glancy prongay amp murray llp announces investigation\n"
          ],
          "name": "stdout"
        }
      ]
    },
    {
      "cell_type": "code",
      "metadata": {
        "id": "1rALccZUFtID",
        "colab_type": "code",
        "colab": {
          "base_uri": "https://localhost:8080/",
          "height": 190
        },
        "outputId": "e272860c-ff7d-407b-da83-6bac431fab8d"
      },
      "source": [
        "df.head(2)"
      ],
      "execution_count": null,
      "outputs": [
        {
          "output_type": "execute_result",
          "data": {
            "text/html": [
              "<div>\n",
              "<style scoped>\n",
              "    .dataframe tbody tr th:only-of-type {\n",
              "        vertical-align: middle;\n",
              "    }\n",
              "\n",
              "    .dataframe tbody tr th {\n",
              "        vertical-align: top;\n",
              "    }\n",
              "\n",
              "    .dataframe thead th {\n",
              "        text-align: right;\n",
              "    }\n",
              "</style>\n",
              "<table border=\"1\" class=\"dataframe\">\n",
              "  <thead>\n",
              "    <tr style=\"text-align: right;\">\n",
              "      <th></th>\n",
              "      <th>created_at</th>\n",
              "      <th>screen_name</th>\n",
              "      <th>in_reply_to_screen_name</th>\n",
              "      <th>text</th>\n",
              "      <th>negative</th>\n",
              "      <th>neutral</th>\n",
              "      <th>positive</th>\n",
              "      <th>compound</th>\n",
              "      <th>stockprice</th>\n",
              "      <th>text_meaningful</th>\n",
              "    </tr>\n",
              "  </thead>\n",
              "  <tbody>\n",
              "    <tr>\n",
              "      <th>0</th>\n",
              "      <td>1/15/2020</td>\n",
              "      <td>GFACCORD</td>\n",
              "      <td>NaN</td>\n",
              "      <td>retweet selected team glancy prongay amp murra...</td>\n",
              "      <td>0.0</td>\n",
              "      <td>1.0</td>\n",
              "      <td>0.0</td>\n",
              "      <td>0.0</td>\n",
              "      <td>12.472</td>\n",
              "      <td>retweet selected team glancy prongay amp murra...</td>\n",
              "    </tr>\n",
              "    <tr>\n",
              "      <th>1</th>\n",
              "      <td>1/15/2020</td>\n",
              "      <td>YourGoshenNews</td>\n",
              "      <td>NaN</td>\n",
              "      <td>entering last year first term governor eric ho...</td>\n",
              "      <td>0.0</td>\n",
              "      <td>1.0</td>\n",
              "      <td>0.0</td>\n",
              "      <td>0.0</td>\n",
              "      <td>12.472</td>\n",
              "      <td>entering last year first term governor eric ho...</td>\n",
              "    </tr>\n",
              "  </tbody>\n",
              "</table>\n",
              "</div>"
            ],
            "text/plain": [
              "  created_at  ...                                    text_meaningful\n",
              "0  1/15/2020  ...  retweet selected team glancy prongay amp murra...\n",
              "1  1/15/2020  ...  entering last year first term governor eric ho...\n",
              "\n",
              "[2 rows x 10 columns]"
            ]
          },
          "metadata": {
            "tags": []
          },
          "execution_count": 129
        }
      ]
    },
    {
      "cell_type": "markdown",
      "metadata": {
        "id": "hkOE2fChzFFy",
        "colab_type": "text"
      },
      "source": [
        "###h. Special Character (Optional)"
      ]
    },
    {
      "cell_type": "code",
      "metadata": {
        "id": "Oxrqp4be7YkH",
        "colab_type": "code",
        "colab": {
          "base_uri": "https://localhost:8080/",
          "height": 218
        },
        "outputId": "778d2ffc-6c4c-42ee-f019-48c0b7db9b4a"
      },
      "source": [
        "import string\n",
        "\n",
        "printable = set(string.printable)\n",
        "\n",
        "def remove_spec_chars(in_str):\n",
        "    return ''.join([c for c in in_str if c in printable])\n",
        "\n",
        "data['text'].apply(remove_spec_chars)"
      ],
      "execution_count": null,
      "outputs": [
        {
          "output_type": "execute_result",
          "data": {
            "text/plain": [
              "0         live soon unranked to gm duo going dive @jonov...\n",
              "1         @hopesisagod @amberessxnce aye bro with all du...\n",
              "2         gm authority: worlds nicest 1985 cadillac sevi...\n",
              "3         rt @brendanleister: sure hope whoever becomes ...\n",
              "4                 @phdoldmanresea1 @valueanalyst1 gm and f?\n",
              "                                ...                        \n",
              "117811    twitter fucked up letting me react to things i...\n",
              "117812    rt @ryanohalloran: updated: at senior bowl, #b...\n",
              "117813    what cruises self-driving vehicle reveals abou...\n",
              "117814                              ungrateful ass bitches \n",
              "117815    @initiativerole thats where a good gm can pay ...\n",
              "Name: text, Length: 117816, dtype: object"
            ]
          },
          "metadata": {
            "tags": []
          },
          "execution_count": 43
        }
      ]
    },
    {
      "cell_type": "markdown",
      "metadata": {
        "id": "qKXeNt32lnoM",
        "colab_type": "text"
      },
      "source": [
        "#**4. Sentiment Analysis**"
      ]
    },
    {
      "cell_type": "code",
      "metadata": {
        "id": "a9i3qzQsDPc6",
        "colab_type": "code",
        "colab": {}
      },
      "source": [
        "#Change Title to String\n",
        "df['text'] = df['text'].astype(str)"
      ],
      "execution_count": null,
      "outputs": []
    },
    {
      "cell_type": "code",
      "metadata": {
        "id": "mEa3xwALhD2T",
        "colab_type": "code",
        "colab": {
          "base_uri": "https://localhost:8080/",
          "height": 67
        },
        "outputId": "f3d577f1-a850-476c-fef7-a67a59d573c7"
      },
      "source": [
        "# Import library for Text Analytics\n",
        "import nltk\n",
        "nltk.download('vader_lexicon')"
      ],
      "execution_count": null,
      "outputs": [
        {
          "output_type": "stream",
          "text": [
            "[nltk_data] Downloading package vader_lexicon to /root/nltk_data...\n",
            "[nltk_data]   Package vader_lexicon is already up-to-date!\n"
          ],
          "name": "stdout"
        },
        {
          "output_type": "execute_result",
          "data": {
            "text/plain": [
              "True"
            ]
          },
          "metadata": {
            "tags": []
          },
          "execution_count": 131
        }
      ]
    },
    {
      "cell_type": "code",
      "metadata": {
        "id": "dISYmHJxhHzF",
        "colab_type": "code",
        "colab": {}
      },
      "source": [
        "# Sentiment Analysis\n",
        "sid = SentimentIntensityAnalyzer()\n",
        "listy = [] \n",
        "for index, row in df.iterrows():\n",
        "  df['text']\n",
        "  ss = sid.polarity_scores(row['text'])\n",
        "  listy.append(ss)\n",
        "  \n",
        "se = pd.Series(listy)\n",
        "df['polarity'] = se.values\n",
        "display(df.head(10))"
      ],
      "execution_count": null,
      "outputs": []
    },
    {
      "cell_type": "markdown",
      "metadata": {
        "id": "3QCKCoqHz7nn",
        "colab_type": "text"
      },
      "source": [
        "###a. Visualization"
      ]
    },
    {
      "cell_type": "code",
      "metadata": {
        "id": "XvN0c3J9zvPT",
        "colab_type": "code",
        "colab": {
          "base_uri": "https://localhost:8080/",
          "height": 248
        },
        "outputId": "1352e9c9-5b24-4416-ea41-da6db9aaeded"
      },
      "source": [
        "# Pie Chart\n",
        "import matplotlib.pyplot as plt\n",
        "labels = ['negative', 'neutral', 'positive']\n",
        "sizes  = [ss['neg'], ss['neu'], ss['pos']]\n",
        "plt.pie(sizes, labels=labels, autopct='%1.1f%%')\n",
        "plt.axis('equal') \n",
        "plt.show()"
      ],
      "execution_count": null,
      "outputs": [
        {
          "output_type": "display_data",
          "data": {
            "image/png": "[encoded data removed]",
            "text/plain": [
              "<Figure size 432x288 with 1 Axes>"
            ]
          },
          "metadata": {
            "tags": []
          }
        }
      ]
    },
    {
      "cell_type": "markdown",
      "metadata": {
        "id": "lW_YHFkszUxI",
        "colab_type": "text"
      },
      "source": [
        "###b. Save to CSV"
      ]
    },
    {
      "cell_type": "code",
      "metadata": {
        "id": "u2scLhNwqhS-",
        "colab_type": "code",
        "colab": {}
      },
      "source": [
        "df.to_csv('Chrysler_Senti.csv', index=False)"
      ],
      "execution_count": null,
      "outputs": []
    }
  ]
}